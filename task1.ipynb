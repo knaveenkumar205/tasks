{
 "cells": [
  {
   "cell_type": "markdown",
   "id": "04143907",
   "metadata": {},
   "source": [
    "'''s = \"this is My First Python programming class and i am learNING python string and its function\"\n",
    "\n",
    "1 . Try to extract data from index one to index 300 with a jump of 3\n",
    "\n",
    "Try to reverse a string without using reverse function\n",
    "\n",
    "Try to split a string after conversion of entire string in uppercase\n",
    "\n",
    "try to convert the whole string into lower case\n",
    "\n",
    "5 . Try to capitalize the whole string\n",
    "\n",
    "6 . Write a diference between isalnum() and isalpha()\n",
    "\n",
    "Try to give an example of expand tab\n",
    "8 . Give an example of strip , lstrip and rstrip\n",
    "\n",
    "Replace a string charecter by another charector by taking your own example\n",
    "10 . Try to give a defination of string center function with and exmple\n",
    "\n",
    "11 . Write your own definition of compiler and interpretor without copy paste form internet in your own language\n",
    "\n",
    "12 . Python is a interpreted of compiled language give a clear ans with your understanding\n",
    "\n",
    "13 . Try to write a usecase of python with your understanding .'''"
   ]
  },
  {
   "cell_type": "code",
   "execution_count": 1,
   "id": "9c64a8e6",
   "metadata": {},
   "outputs": [],
   "source": [
    "s = \"this is My First Python programming class and i am learNING python string and its function\""
   ]
  },
  {
   "cell_type": "code",
   "execution_count": 2,
   "id": "e43734cb",
   "metadata": {},
   "outputs": [
    {
     "data": {
      "text/plain": [
       "'h   r tnrrmglsnimeNGyosi dtfco'"
      ]
     },
     "execution_count": 2,
     "metadata": {},
     "output_type": "execute_result"
    }
   ],
   "source": [
    "#1 . Try to extract data from index one to index 300 with a jump of 3\n",
    "s[1:300:3]"
   ]
  },
  {
   "cell_type": "code",
   "execution_count": 3,
   "id": "a19f1efc",
   "metadata": {},
   "outputs": [
    {
     "data": {
      "text/plain": [
       "'noitcnuf sti dna gnirts nohtyp GNINrael ma i dna ssalc gnimmargorp nohtyP tsriF yM si siht'"
      ]
     },
     "execution_count": 3,
     "metadata": {},
     "output_type": "execute_result"
    }
   ],
   "source": [
    "#2.Try to reverse a string without using reverse function\n",
    "s[::-1]"
   ]
  },
  {
   "cell_type": "code",
   "execution_count": 6,
   "id": "2455b23e",
   "metadata": {},
   "outputs": [
    {
     "data": {
      "text/plain": [
       "['THIS',\n",
       " 'IS',\n",
       " 'MY',\n",
       " 'FIRST',\n",
       " 'PYTHON',\n",
       " 'PROGRAMMING',\n",
       " 'CLASS',\n",
       " 'AND',\n",
       " 'I',\n",
       " 'AM',\n",
       " 'LEARNING',\n",
       " 'PYTHON',\n",
       " 'STRING',\n",
       " 'AND',\n",
       " 'ITS',\n",
       " 'FUNCTION']"
      ]
     },
     "execution_count": 6,
     "metadata": {},
     "output_type": "execute_result"
    }
   ],
   "source": [
    "#3.Try to split a string after conversion of entire string in uppercase\n",
    "s1=s.upper()\n",
    "s1.split(\" \")"
   ]
  },
  {
   "cell_type": "code",
   "execution_count": 7,
   "id": "7ddd6cf8",
   "metadata": {},
   "outputs": [
    {
     "data": {
      "text/plain": [
       "'this is my first python programming class and i am learning python string and its function'"
      ]
     },
     "execution_count": 7,
     "metadata": {},
     "output_type": "execute_result"
    }
   ],
   "source": [
    "#4.try to convert the whole string into lower case\n",
    "s.lower()"
   ]
  },
  {
   "cell_type": "code",
   "execution_count": 8,
   "id": "d1f0c6ee",
   "metadata": {},
   "outputs": [
    {
     "data": {
      "text/plain": [
       "'This is my first python programming class and i am learning python string and its function'"
      ]
     },
     "execution_count": 8,
     "metadata": {},
     "output_type": "execute_result"
    }
   ],
   "source": [
    "#5 . Try to capitalize the whole string\n",
    "s.capitalize()"
   ]
  },
  {
   "cell_type": "markdown",
   "id": "8eda8a1f",
   "metadata": {},
   "source": [
    "#6 . Write a diference between isalnum() and isalpha()\n",
    "\n",
    "isalnum():\n",
    "          it returns true if the string contains alphabets or digits otherwise returns false\n",
    "\n",
    "isalpha():\n",
    "          it returns true if the string contains only alhabets otherwise returns false"
   ]
  },
  {
   "cell_type": "code",
   "execution_count": 12,
   "id": "fa5fbbbe",
   "metadata": {},
   "outputs": [
    {
     "data": {
      "text/plain": [
       "'123     abc     !@#'"
      ]
     },
     "execution_count": 12,
     "metadata": {},
     "output_type": "execute_result"
    }
   ],
   "source": [
    "#7.Try to give an example of expand tab 8 . \n",
    "k=\"123\\tabc\\t!@#\"\n",
    "k.expandtabs()"
   ]
  },
  {
   "cell_type": "code",
   "execution_count": 14,
   "id": "e8ab1ae2",
   "metadata": {},
   "outputs": [
    {
     "data": {
      "text/plain": [
       "'Naveen'"
      ]
     },
     "execution_count": 14,
     "metadata": {},
     "output_type": "execute_result"
    }
   ],
   "source": [
    "#8.Give an example of strip , lstrip and rstrip\n",
    "n=\"              Naveen           \"\n",
    "n.strip()"
   ]
  },
  {
   "cell_type": "code",
   "execution_count": 15,
   "id": "7e33a0f4",
   "metadata": {},
   "outputs": [
    {
     "data": {
      "text/plain": [
       "'Naveen           '"
      ]
     },
     "execution_count": 15,
     "metadata": {},
     "output_type": "execute_result"
    }
   ],
   "source": [
    "n.lstrip()"
   ]
  },
  {
   "cell_type": "code",
   "execution_count": 16,
   "id": "9ca332f1",
   "metadata": {},
   "outputs": [
    {
     "data": {
      "text/plain": [
       "'              Naveen'"
      ]
     },
     "execution_count": 16,
     "metadata": {},
     "output_type": "execute_result"
    }
   ],
   "source": [
    "n.rstrip()"
   ]
  },
  {
   "cell_type": "code",
   "execution_count": 19,
   "id": "450d45c4",
   "metadata": {},
   "outputs": [
    {
     "data": {
      "text/plain": [
       "'dam'"
      ]
     },
     "execution_count": 19,
     "metadata": {},
     "output_type": "execute_result"
    }
   ],
   "source": [
    "#9.Replace a string charecter by another charector by taking your own example.\n",
    "t=\"ram\"\n",
    "t.replace('r','d')\n",
    "t.center()"
   ]
  },
  {
   "cell_type": "code",
   "execution_count": 26,
   "id": "0e5f9b63",
   "metadata": {},
   "outputs": [
    {
     "data": {
      "text/plain": [
       "'************this is my first challenge************'"
      ]
     },
     "execution_count": 26,
     "metadata": {},
     "output_type": "execute_result"
    }
   ],
   "source": [
    "#10 . Try to give a defination of string center function with and exmple\n",
    "\n",
    "'''string center :\n",
    "The string center() method will center align the string, using a specified character (space is default) as the fill character.\n",
    "\n",
    "'''\n",
    "\n",
    "l=\"this is my first challenge\"\n",
    "l.center(50,\"*\")"
   ]
  },
  {
   "cell_type": "markdown",
   "id": "a5e2d686",
   "metadata": {},
   "source": [
    " ## 11.Write your own definition of compiler and interpretor without copy paste form internet in your own language\n",
    " \n",
    " compiler: first comppiles the code and then execute\n",
    " \n",
    " interpreter: it executes the code line by line"
   ]
  },
  {
   "cell_type": "markdown",
   "id": "d8222638",
   "metadata": {},
   "source": [
    "## 12.Python is a interpreted of compiled language give a clear ans with your understanding\n",
    "pyhton is first compiled and then interpreted\n"
   ]
  },
  {
   "cell_type": "markdown",
   "id": "d53bad5c",
   "metadata": {},
   "source": [
    "## 13 . Try to write a usecase of python with your understanding .\n",
    "pyhton is used in web applications, software devolopment, data science, game devolopment, AI applications"
   ]
  },
  {
   "cell_type": "code",
   "execution_count": null,
   "id": "fc97c048",
   "metadata": {},
   "outputs": [],
   "source": []
  }
 ],
 "metadata": {
  "kernelspec": {
   "display_name": "Python 3 (ipykernel)",
   "language": "python",
   "name": "python3"
  },
  "language_info": {
   "codemirror_mode": {
    "name": "ipython",
    "version": 3
   },
   "file_extension": ".py",
   "mimetype": "text/x-python",
   "name": "python",
   "nbconvert_exporter": "python",
   "pygments_lexer": "ipython3",
   "version": "3.9.12"
  }
 },
 "nbformat": 4,
 "nbformat_minor": 5
}
